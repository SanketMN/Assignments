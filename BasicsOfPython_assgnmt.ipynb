{
 "cells": [
  {
   "cell_type": "code",
   "execution_count": 1,
   "id": "8d76ad77-38d9-4574-910e-9ee416127544",
   "metadata": {},
   "outputs": [],
   "source": [
    "import math as m\n",
    "import random as r\n",
    "import re"
   ]
  },
  {
   "cell_type": "markdown",
   "id": "a8046e90-da57-41c9-8809-3eba27c8107e",
   "metadata": {},
   "source": [
    "## Question 1"
   ]
  },
  {
   "cell_type": "code",
   "execution_count": 3,
   "id": "45d86e8f-980f-4346-95a8-808cfe3f3517",
   "metadata": {},
   "outputs": [],
   "source": [
    "def Primality(a):\n",
    "    if a%2==0 & a%a-1==0:\n",
    "        return('Not a prime number')\n",
    "    else:\n",
    "        return('Prime number')\n",
    "        \n",
    "        \n"
   ]
  },
  {
   "cell_type": "code",
   "execution_count": 17,
   "id": "3a720990-05b1-4ae1-a65d-ac195ea94013",
   "metadata": {},
   "outputs": [
    {
     "data": {
      "text/plain": [
       "'Prime number'"
      ]
     },
     "execution_count": 17,
     "metadata": {},
     "output_type": "execute_result"
    }
   ],
   "source": [
    "Primality(87)"
   ]
  },
  {
   "cell_type": "markdown",
   "id": "aac94598-d71c-40b9-b7fa-11da66cf53dd",
   "metadata": {},
   "source": [
    "## Question 2"
   ]
  },
  {
   "cell_type": "code",
   "execution_count": 6,
   "id": "31a0fa3c-7fab-48d3-a6f1-b7630511bfa9",
   "metadata": {},
   "outputs": [
    {
     "name": "stdin",
     "output_type": "stream",
     "text": [
      "What is the product of 19 and 18?  87\n"
     ]
    },
    {
     "name": "stdout",
     "output_type": "stream",
     "text": [
      "Incorrect answer. The correct answer is 342.\n"
     ]
    }
   ],
   "source": [
    "def Product_quiz():\n",
    "    num1 = r.randint(1, 20)\n",
    "    num2 = r.randint(1, 20)\n",
    "    ## the above code will generate any two random numbers within 1 to 20 using the random library\n",
    "    correct_answer = num1 * num2\n",
    "    ## product of the two numbers will be saved in the below variable\n",
    "    user_answer = int(input(f\"What is the product of {num1} and {num2}? \"))\n",
    "    ## Asking the user to input the product of given numbers using above code and it will be stored in a variable.\n",
    "    if user_answer == correct_answer:\n",
    "        print(\"Correct Answer.\")\n",
    "    else:\n",
    "        print(f\"Incorrect answer. The correct answer is {correct_answer}.\")\n",
    "        \n",
    "Product_quiz()"
   ]
  },
  {
   "cell_type": "markdown",
   "id": "ce346883-ab89-4d47-8813-7d634d5ec31f",
   "metadata": {},
   "source": [
    "## Question 3"
   ]
  },
  {
   "cell_type": "code",
   "execution_count": 8,
   "id": "f5df9f52-a524-411e-b01c-d3486740b2c6",
   "metadata": {},
   "outputs": [
    {
     "name": "stdout",
     "output_type": "stream",
     "text": [
      "10000\n",
      "10404\n",
      "10816\n",
      "11236\n",
      "11664\n",
      "12100\n",
      "12544\n",
      "12996\n",
      "13456\n",
      "13924\n",
      "14400\n",
      "14884\n",
      "15376\n",
      "15876\n",
      "16384\n",
      "16900\n",
      "17424\n",
      "17956\n",
      "18496\n",
      "19044\n",
      "19600\n",
      "20164\n",
      "20736\n",
      "21316\n",
      "21904\n",
      "22500\n",
      "23104\n",
      "23716\n",
      "24336\n",
      "24964\n",
      "25600\n",
      "26244\n",
      "26896\n",
      "27556\n",
      "28224\n",
      "28900\n",
      "29584\n",
      "30276\n",
      "30976\n",
      "31684\n",
      "32400\n",
      "33124\n",
      "33856\n",
      "34596\n",
      "35344\n",
      "36100\n",
      "36864\n",
      "37636\n",
      "38416\n",
      "39204\n",
      "40000\n"
     ]
    }
   ],
   "source": [
    "r1=range(100,201,2)\n",
    "## range of all the even numbers within 100 to 200\n",
    "for i in r1:\n",
    "        print(i**2)\n",
    "    ## Square of all the even numbers within the range of 100 to 200.\n"
   ]
  },
  {
   "cell_type": "code",
   "execution_count": 9,
   "id": "836ad1b3-128d-4729-91bc-e5eddee840f2",
   "metadata": {},
   "outputs": [
    {
     "data": {
      "text/plain": [
       "[10000,\n",
       " 10404,\n",
       " 10816,\n",
       " 11236,\n",
       " 11664,\n",
       " 12100,\n",
       " 12544,\n",
       " 12996,\n",
       " 13456,\n",
       " 13924,\n",
       " 14400,\n",
       " 14884,\n",
       " 15376,\n",
       " 15876,\n",
       " 16384,\n",
       " 16900,\n",
       " 17424,\n",
       " 17956,\n",
       " 18496,\n",
       " 19044,\n",
       " 19600,\n",
       " 20164,\n",
       " 20736,\n",
       " 21316,\n",
       " 21904,\n",
       " 22500,\n",
       " 23104,\n",
       " 23716,\n",
       " 24336,\n",
       " 24964,\n",
       " 25600,\n",
       " 26244,\n",
       " 26896,\n",
       " 27556,\n",
       " 28224,\n",
       " 28900,\n",
       " 29584,\n",
       " 30276,\n",
       " 30976,\n",
       " 31684,\n",
       " 32400,\n",
       " 33124,\n",
       " 33856,\n",
       " 34596,\n",
       " 35344,\n",
       " 36100,\n",
       " 36864,\n",
       " 37636,\n",
       " 38416,\n",
       " 39204,\n",
       " 40000]"
      ]
     },
     "execution_count": 9,
     "metadata": {},
     "output_type": "execute_result"
    }
   ],
   "source": [
    "[i**2 for i in r1]\n",
    "## composite code"
   ]
  },
  {
   "cell_type": "markdown",
   "id": "c663c887-ea52-41ef-9887-f681a9ac6b1f",
   "metadata": {},
   "source": [
    "## Question 4 ##"
   ]
  },
  {
   "cell_type": "code",
   "execution_count": 22,
   "id": "56545fd4-43aa-46aa-876e-45a5ae65ba0e",
   "metadata": {},
   "outputs": [
    {
     "name": "stdout",
     "output_type": "stream",
     "text": [
      "'India': 1\n",
      "'is': 2\n",
      "'one': 1\n",
      "'of': 1\n",
      "'the': 3\n",
      "'ancient': 1\n",
      "'countries': 1\n",
      "'in': 1\n",
      "'world.': 1\n",
      "'Indian': 2\n",
      "'civilization': 1\n",
      "'greatest.': 1\n",
      "'I': 1\n",
      "'am': 1\n",
      "'proud': 1\n",
      "'to': 1\n",
      "'be': 1\n",
      "'an': 1\n"
     ]
    }
   ],
   "source": [
    "from collections import Counter\n",
    "\n",
    "def word_counter(text):\n",
    "    # Split the text into words\n",
    "    words = text.split()\n",
    "    \n",
    "    # Count the occurrences of each word\n",
    "    word_count = Counter(words)\n",
    "    \n",
    "    # Format and print the word counts\n",
    "    for word, count in word_count.items():\n",
    "        print(f\"'{word}': {count}\")\n",
    "\n",
    "# Example input\n",
    "input_text = \"India is one of the ancient countries in the world. Indian civilization is the greatest. I am proud to be an Indian\"\n",
    "word_counter(input_text)\n"
   ]
  },
  {
   "cell_type": "markdown",
   "id": "83af76f0-9e68-4155-a7bb-4e6e9ce3a339",
   "metadata": {},
   "source": [
    "## Question 5 ##"
   ]
  },
  {
   "cell_type": "code",
   "execution_count": 37,
   "id": "3a53ad43-6a3e-4d07-b0cf-b0b0093f2bd5",
   "metadata": {},
   "outputs": [
    {
     "name": "stdout",
     "output_type": "stream",
     "text": [
      "True\n"
     ]
    }
   ],
   "source": [
    "import string\n",
    "\n",
    "def is_palindrome(input_string):\n",
    "    # Remove spaces, punctuation, and convert to lowercase\n",
    "    cleaned_string = ''.join(char.lower() for char in input_string if char.isalnum())\n",
    "    \n",
    "    # Check if the cleaned string reads the same forward and backward\n",
    "    return cleaned_string == cleaned_string[::-1]\n",
    "\n",
    "# Example usage\n",
    "input_text = \"madam\"\n",
    "print(is_palindrome(input_text)) \n"
   ]
  },
  {
   "cell_type": "code",
   "execution_count": null,
   "id": "e22c4d60-046d-4615-b85b-0a7bbf0a2189",
   "metadata": {},
   "outputs": [],
   "source": []
  }
 ],
 "metadata": {
  "kernelspec": {
   "display_name": "Python 3 (ipykernel)",
   "language": "python",
   "name": "python3"
  },
  "language_info": {
   "codemirror_mode": {
    "name": "ipython",
    "version": 3
   },
   "file_extension": ".py",
   "mimetype": "text/x-python",
   "name": "python",
   "nbconvert_exporter": "python",
   "pygments_lexer": "ipython3",
   "version": "3.12.4"
  }
 },
 "nbformat": 4,
 "nbformat_minor": 5
}
