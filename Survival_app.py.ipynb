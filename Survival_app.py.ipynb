{
 "cells": [
  {
   "cell_type": "code",
   "execution_count": 1,
   "id": "f5eeb0f2-b0c4-4c92-b8e8-e5bc5872ebcc",
   "metadata": {},
   "outputs": [
    {
     "name": "stderr",
     "output_type": "stream",
     "text": [
      "2025-03-27 17:18:51.132 \n",
      "  \u001b[33m\u001b[1mWarning:\u001b[0m to view this Streamlit app on a browser, run it with the following\n",
      "  command:\n",
      "\n",
      "    streamlit run C:\\Users\\SANKET NICHAT\\anaconda3\\Lib\\site-packages\\ipykernel_launcher.py [ARGUMENTS]\n"
     ]
    }
   ],
   "source": [
    "import streamlit as st\n",
    "import pandas as pd\n",
    "import numpy as np\n",
    "import pickle\n",
    "\n",
    "# Load trained model\n",
    "with open(\"titanic_model.pkl\", \"rb\") as file:\n",
    "    model = pickle.load(file)\n",
    "\n",
    "# Streamlit UI\n",
    "st.title(\"🚢 Titanic Survival Prediction App\")\n",
    "\n",
    "st.markdown(\"\"\"\n",
    "Enter passenger details to predict whether they would have survived the Titanic disaster.\n",
    "\"\"\")\n",
    "\n",
    "# User inputs\n",
    "pclass = st.selectbox(\"Passenger Class (1 = First, 2 = Second, 3 = Third)\", [1, 2, 3])\n",
    "sex = st.radio(\"Sex\", [\"Male\", \"Female\"])\n",
    "age = st.number_input(\"Age\", min_value=1, max_value=100, value=30)\n",
    "sibsp = st.number_input(\"Number of Siblings/Spouses Aboard\", min_value=0, max_value=10, value=0)\n",
    "parch = st.number_input(\"Number of Parents/Children Aboard\", min_value=0, max_value=10, value=0)\n",
    "fare = st.number_input(\"Fare\", min_value=0.0, max_value=500.0, value=50.0)\n",
    "embarked = st.selectbox(\"Embarked Port\", [\"C\", \"Q\", \"S\"])\n",
    "\n",
    "# Convert categorical inputs\n",
    "sex = 1 if sex == \"Female\" else 0\n",
    "embarked_C = 1 if embarked == \"C\" else 0\n",
    "embarked_Q = 1 if embarked == \"Q\" else 0\n",
    "\n",
    "# Create input array\n",
    "input_data = np.array([[pclass, sex, age, sibsp, parch, fare, embarked_C, embarked_Q]])\n",
    "\n",
    "# Make prediction\n",
    "if st.button(\"Predict Survival\"):\n",
    "    prediction = model.predict(input_data)[0]\n",
    "    result = \"Survived 🎉\" if prediction == 1 else \"Did Not Survive 😢\"\n",
    "    st.subheader(f\"Prediction: {result}\")\n"
   ]
  },
  {
   "cell_type": "code",
   "execution_count": null,
   "id": "7d4f7509-c6e5-464e-bfe8-27d9a9dcce6f",
   "metadata": {},
   "outputs": [],
   "source": []
  }
 ],
 "metadata": {
  "kernelspec": {
   "display_name": "Python 3 (ipykernel)",
   "language": "python",
   "name": "python3"
  },
  "language_info": {
   "codemirror_mode": {
    "name": "ipython",
    "version": 3
   },
   "file_extension": ".py",
   "mimetype": "text/x-python",
   "name": "python",
   "nbconvert_exporter": "python",
   "pygments_lexer": "ipython3",
   "version": "3.12.4"
  }
 },
 "nbformat": 4,
 "nbformat_minor": 5
}
