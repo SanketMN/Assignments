{
 "cells": [
  {
   "cell_type": "markdown",
   "id": "69c1a1d1-dc59-4efa-8f8f-d06a8b2548a9",
   "metadata": {},
   "source": [
    "## Confidence Interval "
   ]
  },
  {
   "cell_type": "code",
   "execution_count": 1,
   "id": "e5baa2bc-cd65-4dfc-8904-0b740f6dfc64",
   "metadata": {},
   "outputs": [],
   "source": [
    "import pandas as pd\n",
    "import numpy as np\n",
    "from scipy import stats"
   ]
  },
  {
   "cell_type": "code",
   "execution_count": 3,
   "id": "8467bc57-27ac-46bb-b653-2b889226be2c",
   "metadata": {},
   "outputs": [
    {
     "data": {
      "text/plain": [
       "[1.13,\n",
       " 1.55,\n",
       " 1.43,\n",
       " 0.92,\n",
       " 1.25,\n",
       " 1.36,\n",
       " 1.32,\n",
       " 0.85,\n",
       " 1.07,\n",
       " 1.48,\n",
       " 1.2,\n",
       " 1.33,\n",
       " 1.18,\n",
       " 1.22,\n",
       " 1.29]"
      ]
     },
     "execution_count": 3,
     "metadata": {},
     "output_type": "execute_result"
    }
   ],
   "source": [
    "list=[1.13, 1.55, 1.43, 0.92, 1.25, 1.36, 1.32, 0.85, 1.07, 1.48, 1.20, 1.33, 1.18, 1.22, 1.29]\n",
    "list"
   ]
  },
  {
   "cell_type": "markdown",
   "id": "50e6ef32-9434-4220-9439-e3d2ccc8b389",
   "metadata": {},
   "source": [
    "## Converted the list data in to DataFrame using below code."
   ]
  },
  {
   "cell_type": "code",
   "execution_count": 9,
   "id": "fa11c7d9-b213-4880-b655-9d9625ee75d1",
   "metadata": {},
   "outputs": [
    {
     "data": {
      "text/html": [
       "<div>\n",
       "<style scoped>\n",
       "    .dataframe tbody tr th:only-of-type {\n",
       "        vertical-align: middle;\n",
       "    }\n",
       "\n",
       "    .dataframe tbody tr th {\n",
       "        vertical-align: top;\n",
       "    }\n",
       "\n",
       "    .dataframe thead th {\n",
       "        text-align: right;\n",
       "    }\n",
       "</style>\n",
       "<table border=\"1\" class=\"dataframe\">\n",
       "  <thead>\n",
       "    <tr style=\"text-align: right;\">\n",
       "      <th></th>\n",
       "      <th>Print_Life</th>\n",
       "    </tr>\n",
       "  </thead>\n",
       "  <tbody>\n",
       "    <tr>\n",
       "      <th>0</th>\n",
       "      <td>1.13</td>\n",
       "    </tr>\n",
       "    <tr>\n",
       "      <th>1</th>\n",
       "      <td>1.55</td>\n",
       "    </tr>\n",
       "    <tr>\n",
       "      <th>2</th>\n",
       "      <td>1.43</td>\n",
       "    </tr>\n",
       "    <tr>\n",
       "      <th>3</th>\n",
       "      <td>0.92</td>\n",
       "    </tr>\n",
       "    <tr>\n",
       "      <th>4</th>\n",
       "      <td>1.25</td>\n",
       "    </tr>\n",
       "    <tr>\n",
       "      <th>5</th>\n",
       "      <td>1.36</td>\n",
       "    </tr>\n",
       "    <tr>\n",
       "      <th>6</th>\n",
       "      <td>1.32</td>\n",
       "    </tr>\n",
       "    <tr>\n",
       "      <th>7</th>\n",
       "      <td>0.85</td>\n",
       "    </tr>\n",
       "    <tr>\n",
       "      <th>8</th>\n",
       "      <td>1.07</td>\n",
       "    </tr>\n",
       "    <tr>\n",
       "      <th>9</th>\n",
       "      <td>1.48</td>\n",
       "    </tr>\n",
       "    <tr>\n",
       "      <th>10</th>\n",
       "      <td>1.20</td>\n",
       "    </tr>\n",
       "    <tr>\n",
       "      <th>11</th>\n",
       "      <td>1.33</td>\n",
       "    </tr>\n",
       "    <tr>\n",
       "      <th>12</th>\n",
       "      <td>1.18</td>\n",
       "    </tr>\n",
       "    <tr>\n",
       "      <th>13</th>\n",
       "      <td>1.22</td>\n",
       "    </tr>\n",
       "    <tr>\n",
       "      <th>14</th>\n",
       "      <td>1.29</td>\n",
       "    </tr>\n",
       "  </tbody>\n",
       "</table>\n",
       "</div>"
      ],
      "text/plain": [
       "    Print_Life\n",
       "0         1.13\n",
       "1         1.55\n",
       "2         1.43\n",
       "3         0.92\n",
       "4         1.25\n",
       "5         1.36\n",
       "6         1.32\n",
       "7         0.85\n",
       "8         1.07\n",
       "9         1.48\n",
       "10        1.20\n",
       "11        1.33\n",
       "12        1.18\n",
       "13        1.22\n",
       "14        1.29"
      ]
     },
     "execution_count": 9,
     "metadata": {},
     "output_type": "execute_result"
    }
   ],
   "source": [
    "df=pd.DataFrame({'Print_Life':[1.13, 1.55, 1.43, 0.92, 1.25, 1.36, 1.32, 0.85, 1.07, 1.48, 1.20, 1.33, 1.18, 1.22, 1.29]})\n",
    "df\n"
   ]
  },
  {
   "cell_type": "markdown",
   "id": "1a4179fe-7c8a-44ea-a89a-5227d6821630",
   "metadata": {},
   "source": [
    "## Using the Pandas function describe found out the mean and standard deviation for the sample."
   ]
  },
  {
   "cell_type": "code",
   "execution_count": 11,
   "id": "f299bfbe-c011-441b-8a68-b765cfdfa8f9",
   "metadata": {},
   "outputs": [
    {
     "data": {
      "text/html": [
       "<div>\n",
       "<style scoped>\n",
       "    .dataframe tbody tr th:only-of-type {\n",
       "        vertical-align: middle;\n",
       "    }\n",
       "\n",
       "    .dataframe tbody tr th {\n",
       "        vertical-align: top;\n",
       "    }\n",
       "\n",
       "    .dataframe thead th {\n",
       "        text-align: right;\n",
       "    }\n",
       "</style>\n",
       "<table border=\"1\" class=\"dataframe\">\n",
       "  <thead>\n",
       "    <tr style=\"text-align: right;\">\n",
       "      <th></th>\n",
       "      <th>Print_Life</th>\n",
       "    </tr>\n",
       "  </thead>\n",
       "  <tbody>\n",
       "    <tr>\n",
       "      <th>count</th>\n",
       "      <td>15.000000</td>\n",
       "    </tr>\n",
       "    <tr>\n",
       "      <th>mean</th>\n",
       "      <td>1.238667</td>\n",
       "    </tr>\n",
       "    <tr>\n",
       "      <th>std</th>\n",
       "      <td>0.193164</td>\n",
       "    </tr>\n",
       "    <tr>\n",
       "      <th>min</th>\n",
       "      <td>0.850000</td>\n",
       "    </tr>\n",
       "    <tr>\n",
       "      <th>25%</th>\n",
       "      <td>1.155000</td>\n",
       "    </tr>\n",
       "    <tr>\n",
       "      <th>50%</th>\n",
       "      <td>1.250000</td>\n",
       "    </tr>\n",
       "    <tr>\n",
       "      <th>75%</th>\n",
       "      <td>1.345000</td>\n",
       "    </tr>\n",
       "    <tr>\n",
       "      <th>max</th>\n",
       "      <td>1.550000</td>\n",
       "    </tr>\n",
       "  </tbody>\n",
       "</table>\n",
       "</div>"
      ],
      "text/plain": [
       "       Print_Life\n",
       "count   15.000000\n",
       "mean     1.238667\n",
       "std      0.193164\n",
       "min      0.850000\n",
       "25%      1.155000\n",
       "50%      1.250000\n",
       "75%      1.345000\n",
       "max      1.550000"
      ]
     },
     "execution_count": 11,
     "metadata": {},
     "output_type": "execute_result"
    }
   ],
   "source": [
    "df.describe()"
   ]
  },
  {
   "cell_type": "code",
   "execution_count": 13,
   "id": "824b4f43-20c0-4bf3-aaba-b756798d73fc",
   "metadata": {},
   "outputs": [],
   "source": [
    "n=15\n",
    "X_bar=1.238667\n",
    "Alpha=0.01\n",
    "sample_std=0.193164"
   ]
  },
  {
   "cell_type": "markdown",
   "id": "f87efa7b-0ce3-4f13-bb2f-c96cc37b6515",
   "metadata": {},
   "source": [
    "## With the help of below code calculated the minimum and maximum lifetime of the printing head with 99% confidence."
   ]
  },
  {
   "cell_type": "code",
   "execution_count": 20,
   "id": "d2544717-ff54-4343-bf4f-bb12d29eab1e",
   "metadata": {},
   "outputs": [
    {
     "data": {
      "text/plain": [
       "(1.090197771361284, 1.3871362286387159)"
      ]
     },
     "execution_count": 20,
     "metadata": {},
     "output_type": "execute_result"
    }
   ],
   "source": [
    "stats.t.interval(0.99, df = 14, loc = X_bar, scale = (sample_std/np.sqrt(15)))"
   ]
  },
  {
   "cell_type": "markdown",
   "id": "ad9a941e-0ad5-4cb7-a2bf-269225d1a0e9",
   "metadata": {},
   "source": [
    "## With 99% confidence we can say that the minimum lifetime of the printing tool is 1.09 and the maximum lifetime is 1.39."
   ]
  },
  {
   "cell_type": "code",
   "execution_count": null,
   "id": "576aa692-e430-43ed-a6a6-b16281aeac49",
   "metadata": {},
   "outputs": [],
   "source": []
  }
 ],
 "metadata": {
  "kernelspec": {
   "display_name": "Python 3 (ipykernel)",
   "language": "python",
   "name": "python3"
  },
  "language_info": {
   "codemirror_mode": {
    "name": "ipython",
    "version": 3
   },
   "file_extension": ".py",
   "mimetype": "text/x-python",
   "name": "python",
   "nbconvert_exporter": "python",
   "pygments_lexer": "ipython3",
   "version": "3.12.4"
  }
 },
 "nbformat": 4,
 "nbformat_minor": 5
}
