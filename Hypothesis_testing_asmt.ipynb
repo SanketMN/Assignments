{
 "cells": [
  {
   "cell_type": "markdown",
   "id": "cacf0fc7-dc84-489b-91c1-4275a514bdcf",
   "metadata": {},
   "source": [
    "Chisquare test"
   ]
  },
  {
   "cell_type": "code",
   "execution_count": 1,
   "id": "fd6d30f1-b999-4085-b71a-24daef8bfff9",
   "metadata": {},
   "outputs": [],
   "source": [
    "from scipy import stats\n",
    "import pandas as pd\n",
    "import numpy as np"
   ]
  },
  {
   "cell_type": "markdown",
   "id": "c3b22d22-4da0-424a-a33e-6f2163cbddb4",
   "metadata": {},
   "source": [
    "Hypothesis testing for the below C_sat data to determine if there is a relation between the type of device\n",
    "purchased and the satisfaction level of the customer."
   ]
  },
  {
   "cell_type": "code",
   "execution_count": 3,
   "id": "93ace03b-f5b1-4bb7-8c1b-96f94704c464",
   "metadata": {},
   "outputs": [],
   "source": [
    "from scipy.stats import chi2_contingency"
   ]
  },
  {
   "cell_type": "code",
   "execution_count": 7,
   "id": "3c598f35-1249-4772-92be-3d7a8b2cef7b",
   "metadata": {},
   "outputs": [
    {
     "data": {
      "text/html": [
       "<div>\n",
       "<style scoped>\n",
       "    .dataframe tbody tr th:only-of-type {\n",
       "        vertical-align: middle;\n",
       "    }\n",
       "\n",
       "    .dataframe tbody tr th {\n",
       "        vertical-align: top;\n",
       "    }\n",
       "\n",
       "    .dataframe thead th {\n",
       "        text-align: right;\n",
       "    }\n",
       "</style>\n",
       "<table border=\"1\" class=\"dataframe\">\n",
       "  <thead>\n",
       "    <tr style=\"text-align: right;\">\n",
       "      <th></th>\n",
       "      <th>Satisfaction</th>\n",
       "      <th>Smart Thermostat</th>\n",
       "      <th>Smart Light</th>\n",
       "      <th>Total</th>\n",
       "    </tr>\n",
       "  </thead>\n",
       "  <tbody>\n",
       "    <tr>\n",
       "      <th>0</th>\n",
       "      <td>Very Satisfied</td>\n",
       "      <td>50</td>\n",
       "      <td>70</td>\n",
       "      <td>120</td>\n",
       "    </tr>\n",
       "    <tr>\n",
       "      <th>1</th>\n",
       "      <td>Satisfied</td>\n",
       "      <td>80</td>\n",
       "      <td>100</td>\n",
       "      <td>180</td>\n",
       "    </tr>\n",
       "    <tr>\n",
       "      <th>2</th>\n",
       "      <td>Neutral</td>\n",
       "      <td>60</td>\n",
       "      <td>90</td>\n",
       "      <td>150</td>\n",
       "    </tr>\n",
       "    <tr>\n",
       "      <th>3</th>\n",
       "      <td>Unsatisfied</td>\n",
       "      <td>30</td>\n",
       "      <td>50</td>\n",
       "      <td>80</td>\n",
       "    </tr>\n",
       "    <tr>\n",
       "      <th>4</th>\n",
       "      <td>Very Unsatisfied</td>\n",
       "      <td>20</td>\n",
       "      <td>50</td>\n",
       "      <td>70</td>\n",
       "    </tr>\n",
       "    <tr>\n",
       "      <th>5</th>\n",
       "      <td>Total</td>\n",
       "      <td>240</td>\n",
       "      <td>360</td>\n",
       "      <td>600</td>\n",
       "    </tr>\n",
       "  </tbody>\n",
       "</table>\n",
       "</div>"
      ],
      "text/plain": [
       "       Satisfaction  Smart Thermostat  Smart Light  Total\n",
       "0    Very Satisfied                50           70    120\n",
       "1         Satisfied                80          100    180\n",
       "2           Neutral                60           90    150\n",
       "3       Unsatisfied                30           50     80\n",
       "4  Very Unsatisfied                20           50     70\n",
       "5             Total               240          360    600"
      ]
     },
     "execution_count": 7,
     "metadata": {},
     "output_type": "execute_result"
    }
   ],
   "source": [
    "df = pd.read_excel('C_sat.xlsx')\n",
    "df"
   ]
  },
  {
   "cell_type": "code",
   "execution_count": 20,
   "id": "fb1edd30-9365-4e6e-a46e-e218cb66200f",
   "metadata": {},
   "outputs": [],
   "source": [
    "##Null Hypothesis Ho: There is no relation between the type of device purchased and satisfaction level.\n",
    "##Alternate Hypothesis Ha: There is a relation between the type of device purchased and satisfaction level.\n"
   ]
  },
  {
   "cell_type": "code",
   "execution_count": 9,
   "id": "579753a5-44eb-4f27-b045-896347f930cc",
   "metadata": {},
   "outputs": [
    {
     "data": {
      "text/html": [
       "<div>\n",
       "<style scoped>\n",
       "    .dataframe tbody tr th:only-of-type {\n",
       "        vertical-align: middle;\n",
       "    }\n",
       "\n",
       "    .dataframe tbody tr th {\n",
       "        vertical-align: top;\n",
       "    }\n",
       "\n",
       "    .dataframe thead th {\n",
       "        text-align: right;\n",
       "    }\n",
       "</style>\n",
       "<table border=\"1\" class=\"dataframe\">\n",
       "  <thead>\n",
       "    <tr style=\"text-align: right;\">\n",
       "      <th>Smart Light</th>\n",
       "      <th>50</th>\n",
       "      <th>70</th>\n",
       "      <th>90</th>\n",
       "      <th>100</th>\n",
       "      <th>360</th>\n",
       "    </tr>\n",
       "    <tr>\n",
       "      <th>Smart Thermostat</th>\n",
       "      <th></th>\n",
       "      <th></th>\n",
       "      <th></th>\n",
       "      <th></th>\n",
       "      <th></th>\n",
       "    </tr>\n",
       "  </thead>\n",
       "  <tbody>\n",
       "    <tr>\n",
       "      <th>20</th>\n",
       "      <td>1</td>\n",
       "      <td>0</td>\n",
       "      <td>0</td>\n",
       "      <td>0</td>\n",
       "      <td>0</td>\n",
       "    </tr>\n",
       "    <tr>\n",
       "      <th>30</th>\n",
       "      <td>1</td>\n",
       "      <td>0</td>\n",
       "      <td>0</td>\n",
       "      <td>0</td>\n",
       "      <td>0</td>\n",
       "    </tr>\n",
       "    <tr>\n",
       "      <th>50</th>\n",
       "      <td>0</td>\n",
       "      <td>1</td>\n",
       "      <td>0</td>\n",
       "      <td>0</td>\n",
       "      <td>0</td>\n",
       "    </tr>\n",
       "    <tr>\n",
       "      <th>60</th>\n",
       "      <td>0</td>\n",
       "      <td>0</td>\n",
       "      <td>1</td>\n",
       "      <td>0</td>\n",
       "      <td>0</td>\n",
       "    </tr>\n",
       "    <tr>\n",
       "      <th>80</th>\n",
       "      <td>0</td>\n",
       "      <td>0</td>\n",
       "      <td>0</td>\n",
       "      <td>1</td>\n",
       "      <td>0</td>\n",
       "    </tr>\n",
       "    <tr>\n",
       "      <th>240</th>\n",
       "      <td>0</td>\n",
       "      <td>0</td>\n",
       "      <td>0</td>\n",
       "      <td>0</td>\n",
       "      <td>1</td>\n",
       "    </tr>\n",
       "  </tbody>\n",
       "</table>\n",
       "</div>"
      ],
      "text/plain": [
       "Smart Light       50   70   90   100  360\n",
       "Smart Thermostat                         \n",
       "20                  1    0    0    0    0\n",
       "30                  1    0    0    0    0\n",
       "50                  0    1    0    0    0\n",
       "60                  0    0    1    0    0\n",
       "80                  0    0    0    1    0\n",
       "240                 0    0    0    0    1"
      ]
     },
     "execution_count": 9,
     "metadata": {},
     "output_type": "execute_result"
    }
   ],
   "source": [
    "obs = pd.crosstab(index=df['Smart Thermostat'],columns=df['Smart Light'])\n",
    "obs"
   ]
  },
  {
   "cell_type": "code",
   "execution_count": 11,
   "id": "aa56397b-1e06-402a-b7e6-d1ee3cec1c9b",
   "metadata": {},
   "outputs": [],
   "source": [
    "chi2,p,df,exp  = chi2_contingency(obs)"
   ]
  },
  {
   "cell_type": "code",
   "execution_count": 13,
   "id": "93846f5d-7b2c-414b-8365-df5f5b022b20",
   "metadata": {},
   "outputs": [
    {
     "data": {
      "text/plain": [
       "0.2423921616705121"
      ]
     },
     "execution_count": 13,
     "metadata": {},
     "output_type": "execute_result"
    }
   ],
   "source": [
    "p"
   ]
  },
  {
   "cell_type": "code",
   "execution_count": 13,
   "id": "0a771b06-521d-455b-a955-2fd11ca42fc0",
   "metadata": {},
   "outputs": [
    {
     "name": "stdout",
     "output_type": "stream",
     "text": [
      "Failed to reject null hypothesis which means there is no relation between the type of device purchased and satisfaction level.\n"
     ]
    }
   ],
   "source": [
    "if p<0.05:\n",
    "    print('Reject null hypothesis which means there is a relation between the type of device purchased and satisfaction level.')\n",
    "else:\n",
    "    print('Failed to reject null hypothesis which means there is no relation between the type of device purchased and satisfaction level.')"
   ]
  },
  {
   "cell_type": "markdown",
   "id": "8e0251d4-b8f1-4e8b-ae5d-3322e53c7bbe",
   "metadata": {},
   "source": [
    "## Hypothesis Testing"
   ]
  },
  {
   "cell_type": "code",
   "execution_count": 49,
   "id": "4037a54a-0d6f-4f3c-91dc-2bd91a02d5ea",
   "metadata": {},
   "outputs": [],
   "source": [
    "X_bar=3050\n",
    "Pop_mean=4000\n",
    "Sigma=125\n",
    "n=25"
   ]
  },
  {
   "cell_type": "code",
   "execution_count": 51,
   "id": "39f427c7-1937-4cb8-834b-7770b1fed86f",
   "metadata": {},
   "outputs": [
    {
     "data": {
      "text/plain": [
       "-38.0"
      ]
     },
     "execution_count": 51,
     "metadata": {},
     "output_type": "execute_result"
    }
   ],
   "source": [
    "Z_Score=(X_bar-Pop_mean)/(Sigma/np.sqrt(n))\n",
    "Z_Score"
   ]
  },
  {
   "cell_type": "code",
   "execution_count": 53,
   "id": "26f12883-56e0-4586-8dee-517d14aaa65a",
   "metadata": {},
   "outputs": [],
   "source": [
    "from scipy import stats\n",
    "import scipy"
   ]
  },
  {
   "cell_type": "code",
   "execution_count": 59,
   "id": "03bf033f-433b-4caa-91c1-b5566b6a0dd6",
   "metadata": {},
   "outputs": [
    {
     "data": {
      "text/plain": [
       "0.0"
      ]
     },
     "execution_count": 59,
     "metadata": {},
     "output_type": "execute_result"
    }
   ],
   "source": [
    "stats.norm.cdf(Z_Score)"
   ]
  },
  {
   "cell_type": "code",
   "execution_count": null,
   "id": "6406b767-cd8a-401b-99d5-29f52ec05715",
   "metadata": {},
   "outputs": [],
   "source": []
  }
 ],
 "metadata": {
  "kernelspec": {
   "display_name": "Python 3 (ipykernel)",
   "language": "python",
   "name": "python3"
  },
  "language_info": {
   "codemirror_mode": {
    "name": "ipython",
    "version": 3
   },
   "file_extension": ".py",
   "mimetype": "text/x-python",
   "name": "python",
   "nbconvert_exporter": "python",
   "pygments_lexer": "ipython3",
   "version": "3.12.4"
  }
 },
 "nbformat": 4,
 "nbformat_minor": 5
}
